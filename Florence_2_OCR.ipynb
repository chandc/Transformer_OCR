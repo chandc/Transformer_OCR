{
  "cells": [
    {
      "cell_type": "markdown",
      "id": "a9dc5f2b-ec9d-4438-b6b6-e9969dcc11d2",
      "metadata": {
        "id": "a9dc5f2b-ec9d-4438-b6b6-e9969dcc11d2"
      },
      "source": [
        "# Florence-2-large sample usage"
      ]
    },
    {
      "cell_type": "code",
      "execution_count": null,
      "id": "aA5eD9kgWouD",
      "metadata": {
        "id": "aA5eD9kgWouD"
      },
      "outputs": [],
      "source": []
    },
    {
      "cell_type": "code",
      "execution_count": null,
      "id": "fNRmiyNvEbpe",
      "metadata": {
        "colab": {
          "base_uri": "https://localhost:8080/"
        },
        "id": "fNRmiyNvEbpe",
        "outputId": "6eda842d-c1aa-4cc3-a8c2-16bf4bdd617b"
      },
      "outputs": [],
      "source": [
        "%pip install einops flash_attn timm"
      ]
    },
    {
      "cell_type": "code",
      "execution_count": null,
      "id": "3a5afc4f-7540-4dce-8d18-ad74db6a22b7",
      "metadata": {
        "id": "3a5afc4f-7540-4dce-8d18-ad74db6a22b7"
      },
      "outputs": [],
      "source": [
        "from transformers import AutoProcessor, AutoModelForCausalLM\n",
        "from PIL import Image, ImageDraw\n",
        "import requests\n",
        "import copy\n",
        "import torch\n",
        "import random # Import the random module\n",
        "import numpy as np\n",
        "colormap = ['blue','orange','green','purple','brown','pink','gray','olive','cyan','red',\n",
        "            'lime','indigo','violet','aqua','magenta','coral','gold','tan','skyblue']\n",
        "\n",
        "%matplotlib inline"
      ]
    },
    {
      "cell_type": "code",
      "execution_count": null,
      "id": "998b356b-630d-4b89-8139-1995e31822e7",
      "metadata": {
        "id": "998b356b-630d-4b89-8139-1995e31822e7"
      },
      "outputs": [],
      "source": [
        "#model_id = 'microsoft/Florence-2-large'\n",
        "model_id = 'microsoft/Florence-2-large-ft'\n",
        "\n",
        "model = AutoModelForCausalLM.from_pretrained(model_id, trust_remote_code=True, torch_dtype='auto').eval().cuda()\n",
        "processor = AutoProcessor.from_pretrained(model_id, trust_remote_code=True)"
      ]
    },
    {
      "cell_type": "markdown",
      "id": "54d43102-ba85-4438-b971-063d8677129b",
      "metadata": {
        "id": "54d43102-ba85-4438-b971-063d8677129b"
      },
      "source": [
        "## define the prediction function"
      ]
    },
    {
      "cell_type": "code",
      "execution_count": null,
      "id": "5427f95b-3c6e-4834-b08f-8af1a38306b7",
      "metadata": {
        "id": "5427f95b-3c6e-4834-b08f-8af1a38306b7"
      },
      "outputs": [],
      "source": [
        "def run_example(task_prompt, text_input=None):\n",
        "    if text_input is None:\n",
        "        prompt = task_prompt\n",
        "    else:\n",
        "        prompt = task_prompt + text_input\n",
        "    inputs = processor(text=prompt, images=image, return_tensors=\"pt\").to('cuda', torch.float16)\n",
        "    generated_ids = model.generate(\n",
        "      input_ids=inputs[\"input_ids\"].cuda(),\n",
        "      pixel_values=inputs[\"pixel_values\"].cuda(),\n",
        "      max_new_tokens=1024,\n",
        "      early_stopping=False,\n",
        "      do_sample=False,\n",
        "      num_beams=3,\n",
        "    )\n",
        "    generated_text = processor.batch_decode(generated_ids, skip_special_tokens=False)[0]\n",
        "    parsed_answer = processor.post_process_generation(\n",
        "        generated_text,\n",
        "        task=task_prompt,\n",
        "        image_size=(image.width, image.height)\n",
        "    )\n",
        "\n",
        "    return parsed_answer"
      ]
    },
    {
      "cell_type": "code",
      "execution_count": null,
      "id": "0af4db86-1e27-467a-b86c-9d8595d5ab84",
      "metadata": {
        "id": "0af4db86-1e27-467a-b86c-9d8595d5ab84"
      },
      "outputs": [],
      "source": [
        "import matplotlib.pyplot as plt\n",
        "import matplotlib.patches as patches\n",
        "def plot_bbox(image, data):\n",
        "   # Create a figure and axes\n",
        "    fig, ax = plt.subplots()\n",
        "\n",
        "    # Display the image\n",
        "    ax.imshow(image)\n",
        "\n",
        "    # Plot each bounding box\n",
        "    for bbox, label in zip(data['bboxes'], data['labels']):\n",
        "        # Unpack the bounding box coordinates\n",
        "        x1, y1, x2, y2 = bbox\n",
        "        # Create a Rectangle patch\n",
        "        rect = patches.Rectangle((x1, y1), x2-x1, y2-y1, linewidth=1, edgecolor='r', facecolor='none')\n",
        "        # Add the rectangle to the Axes\n",
        "        ax.add_patch(rect)\n",
        "        # Annotate the label\n",
        "        plt.text(x1, y1, label, color='white', fontsize=8, bbox=dict(facecolor='red', alpha=0.5))\n",
        "\n",
        "    # Remove the axis ticks and labels\n",
        "    ax.axis('off')\n",
        "\n",
        "    # Show the plot\n",
        "    plt.show()"
      ]
    },
    {
      "cell_type": "markdown",
      "id": "1dee1c41-0e99-41e8-b647-373cf84aa6a7",
      "metadata": {
        "id": "1dee1c41-0e99-41e8-b647-373cf84aa6a7"
      },
      "source": [
        "## ocr related tasks"
      ]
    },
    {
      "cell_type": "code",
      "execution_count": null,
      "id": "b996738d-e8ab-4223-ad61-cb0f97658f74",
      "metadata": {
        "id": "b996738d-e8ab-4223-ad61-cb0f97658f74"
      },
      "outputs": [],
      "source": [
        "url = \"http://ecx.images-amazon.com/images/I/51UUzBDAMsL.jpg?download=true\"\n",
        "image = Image.open(requests.get(url, stream=True).raw).convert('RGB')"
      ]
    },
    {
      "cell_type": "code",
      "execution_count": null,
      "id": "c06fadf9-bbb6-48f0-9222-cbd4d611bd97",
      "metadata": {
        "colab": {
          "base_uri": "https://localhost:8080/",
          "height": 517
        },
        "id": "c06fadf9-bbb6-48f0-9222-cbd4d611bd97",
        "outputId": "898212f0-0f9c-49c0-cb50-ac96c7c375d3"
      },
      "outputs": [],
      "source": [
        "image"
      ]
    },
    {
      "cell_type": "code",
      "execution_count": null,
      "id": "a478371e-9ca9-444a-8ef1-c30be4b9ef7b",
      "metadata": {
        "colab": {
          "base_uri": "https://localhost:8080/"
        },
        "id": "a478371e-9ca9-444a-8ef1-c30be4b9ef7b",
        "outputId": "8b4900da-504a-4fcf-9029-161f7006ecdb"
      },
      "outputs": [],
      "source": [
        "task_prompt = '<OCR>'\n",
        "run_example(task_prompt)"
      ]
    },
    {
      "cell_type": "code",
      "execution_count": null,
      "id": "0e659469-9b0e-4dec-bec0-917b08a03622",
      "metadata": {
        "colab": {
          "base_uri": "https://localhost:8080/"
        },
        "id": "0e659469-9b0e-4dec-bec0-917b08a03622",
        "outputId": "cbcd18cc-7196-4499-fc98-950070a753d6"
      },
      "outputs": [],
      "source": [
        "task_prompt = '<OCR_WITH_REGION>'\n",
        "results = run_example(task_prompt)\n",
        "print(results)\n",
        "# ocr results format\n",
        "# {'OCR_WITH_REGION': {'quad_boxes': [[x1, y1, x2, y2, x3, y3, x4, y4], ...], 'labels': ['text1', ...]}}"
      ]
    },
    {
      "cell_type": "code",
      "execution_count": null,
      "id": "f74d068b-2787-441a-a1c6-ddc0df402d6f",
      "metadata": {
        "id": "f74d068b-2787-441a-a1c6-ddc0df402d6f"
      },
      "outputs": [],
      "source": [
        "def draw_ocr_bboxes(image, prediction, scale=1):\n",
        "    draw = ImageDraw.Draw(image)\n",
        "    bboxes, labels = prediction['quad_boxes'], prediction['labels']\n",
        "    for box, label in zip(bboxes, labels):\n",
        "        color = random.choice(colormap)\n",
        "        new_box = (np.array(box) * scale).tolist()\n",
        "        draw.polygon(new_box, width=3, outline=color)\n",
        "        draw.text((new_box[0]+8, new_box[1]+2),\n",
        "                    \"{}\".format(label),\n",
        "                    align=\"right\",\n",
        "\n",
        "                    fill=color)\n",
        "\n",
        "    display(image)"
      ]
    },
    {
      "cell_type": "code",
      "execution_count": null,
      "id": "d7fc232a-2771-4f34-b3c2-a2ff92d4df4f",
      "metadata": {
        "colab": {
          "base_uri": "https://localhost:8080/",
          "height": 817
        },
        "id": "d7fc232a-2771-4f34-b3c2-a2ff92d4df4f",
        "outputId": "9be6f3a3-cd49-4180-f320-cd8070ad33c1"
      },
      "outputs": [],
      "source": [
        "output_image = copy.deepcopy(image)\n",
        "w, h = output_image.size\n",
        "scale = 800 / max(w, h)\n",
        "new_output_image = output_image.resize((int(w * scale), int(h * scale)))\n",
        "draw_ocr_bboxes(new_output_image, results['<OCR_WITH_REGION>'], scale=scale)"
      ]
    },
    {
      "cell_type": "code",
      "execution_count": null,
      "id": "amA9ivOZXwm9",
      "metadata": {
        "id": "amA9ivOZXwm9"
      },
      "outputs": [],
      "source": []
    },
    {
      "cell_type": "code",
      "execution_count": null,
      "id": "llQuZM8kWtAh",
      "metadata": {
        "colab": {
          "base_uri": "https://localhost:8080/",
          "height": 1000
        },
        "id": "llQuZM8kWtAh",
        "outputId": "8d88d1e0-ab9c-4368-e4d4-408e913db741"
      },
      "outputs": [],
      "source": [
        "image = Image.open(\"/content/IMG_0220.jpeg\")\n",
        "image"
      ]
    },
    {
      "cell_type": "code",
      "execution_count": null,
      "id": "bsJeIpV8XDXv",
      "metadata": {
        "id": "bsJeIpV8XDXv"
      },
      "outputs": [],
      "source": [
        "task_prompt = '<OCR_WITH_REGION>'\n",
        "results = run_example(task_prompt)\n",
        "print(results)"
      ]
    },
    {
      "cell_type": "code",
      "execution_count": null,
      "id": "xmVxbe4IXyo8",
      "metadata": {
        "id": "xmVxbe4IXyo8"
      },
      "outputs": [],
      "source": [
        "output_image = copy.deepcopy(image)\n",
        "w, h = output_image.size\n",
        "scale = 2400 / max(w, h)\n",
        "new_output_image = output_image.resize((int(w * scale), int(h * scale)))\n",
        "draw_ocr_bboxes(new_output_image, results['<OCR_WITH_REGION>'], scale=scale)"
      ]
    },
    {
      "cell_type": "code",
      "execution_count": null,
      "id": "oH3TFAHTaFBz",
      "metadata": {
        "colab": {
          "base_uri": "https://localhost:8080/",
          "height": 1000
        },
        "id": "oH3TFAHTaFBz",
        "outputId": "7cccefdb-308f-40e1-f6dd-237ae432b9a3"
      },
      "outputs": [],
      "source": [
        "image = Image.open(\"/content/IMG_0222.jpg\")\n",
        "image"
      ]
    },
    {
      "cell_type": "code",
      "execution_count": null,
      "id": "1bufNoulaYO5",
      "metadata": {
        "colab": {
          "base_uri": "https://localhost:8080/"
        },
        "id": "1bufNoulaYO5",
        "outputId": "e845fd79-02bc-4657-d155-59d9ad3b56ee"
      },
      "outputs": [],
      "source": [
        "task_prompt = '<OCR_WITH_REGION>'\n",
        "results = run_example(task_prompt)\n",
        "print(results)"
      ]
    },
    {
      "cell_type": "code",
      "execution_count": null,
      "id": "a40ZCI1_afC0",
      "metadata": {
        "colab": {
          "base_uri": "https://localhost:8080/",
          "height": 1000
        },
        "id": "a40ZCI1_afC0",
        "outputId": "c3ab382f-c821-4f22-98c0-7f2207948952"
      },
      "outputs": [],
      "source": [
        "output_image = copy.deepcopy(image)\n",
        "w, h = output_image.size\n",
        "scale = 3600 / max(w, h)\n",
        "new_output_image = output_image.resize((int(w * scale), int(h * scale)))\n",
        "draw_ocr_bboxes(new_output_image, results['<OCR_WITH_REGION>'], scale=scale)"
      ]
    },
    {
      "cell_type": "code",
      "execution_count": null,
      "id": "46JWRc11cHvh",
      "metadata": {
        "colab": {
          "base_uri": "https://localhost:8080/"
        },
        "id": "46JWRc11cHvh",
        "outputId": "129ef46a-b79b-47ba-bd97-7c9a6ed01993"
      },
      "outputs": [],
      "source": [
        "len(results['<OCR_WITH_REGION>']['quad_boxes'])\n"
      ]
    },
    {
      "cell_type": "code",
      "execution_count": null,
      "id": "Iy2A_99OcMTF",
      "metadata": {
        "id": "Iy2A_99OcMTF"
      },
      "outputs": [],
      "source": [
        "def print_ocr_bboxes(image, prediction, scale=1):\n",
        "    bboxes, labels = prediction['quad_boxes'], prediction['labels']\n",
        "    for box, label in zip(bboxes, labels):\n",
        "        print(box, label)\n",
        "    return\n",
        "\n",
        "\n"
      ]
    },
    {
      "cell_type": "code",
      "execution_count": null,
      "id": "LiIuWHSsc-X4",
      "metadata": {
        "colab": {
          "base_uri": "https://localhost:8080/"
        },
        "id": "LiIuWHSsc-X4",
        "outputId": "22004095-0a96-4bfd-c850-069cf117057d"
      },
      "outputs": [],
      "source": [
        "print_ocr_bboxes(image, results['<OCR_WITH_REGION>'])\n"
      ]
    },
    {
      "cell_type": "code",
      "execution_count": null,
      "id": "UNpmOizvwP4E",
      "metadata": {
        "colab": {
          "base_uri": "https://localhost:8080/",
          "height": 1000
        },
        "id": "UNpmOizvwP4E",
        "outputId": "ff79ccbb-86d2-4467-a606-717db31b3071"
      },
      "outputs": [],
      "source": [
        "image = Image.open(\"/content/test.jpeg\")\n",
        "image"
      ]
    },
    {
      "cell_type": "code",
      "execution_count": null,
      "id": "b61C4Y0Qwfrk",
      "metadata": {
        "colab": {
          "base_uri": "https://localhost:8080/"
        },
        "id": "b61C4Y0Qwfrk",
        "outputId": "c98a76c8-c0ec-4cfc-8080-af3ee6f4fd68"
      },
      "outputs": [],
      "source": [
        "task_prompt = '<OCR_WITH_REGION>'\n",
        "results = run_example(task_prompt)\n",
        "print(results)"
      ]
    },
    {
      "cell_type": "code",
      "execution_count": null,
      "id": "jXtwyAMrybpf",
      "metadata": {
        "colab": {
          "base_uri": "https://localhost:8080/",
          "height": 1000
        },
        "id": "jXtwyAMrybpf",
        "outputId": "42b0b219-3771-4ee2-be04-7382d8dc11aa"
      },
      "outputs": [],
      "source": [
        "output_image = copy.deepcopy(image)\n",
        "w, h = output_image.size\n",
        "scale = 3600 / max(w, h)\n",
        "new_output_image = output_image.resize((int(w * scale), int(h * scale)))\n",
        "draw_ocr_bboxes(new_output_image, results['<OCR_WITH_REGION>'], scale=scale)"
      ]
    },
    {
      "cell_type": "code",
      "execution_count": null,
      "id": "sjp6LycR7TkV",
      "metadata": {
        "colab": {
          "base_uri": "https://localhost:8080/"
        },
        "id": "sjp6LycR7TkV",
        "outputId": "30b00b16-1357-492f-e456-d4ba83805c56"
      },
      "outputs": [],
      "source": [
        "print_ocr_bboxes(image, results['<OCR_WITH_REGION>'])\n"
      ]
    },
    {
      "cell_type": "code",
      "execution_count": null,
      "id": "pKAmhc070Rca",
      "metadata": {
        "colab": {
          "base_uri": "https://localhost:8080/",
          "height": 476
        },
        "id": "pKAmhc070Rca",
        "outputId": "89433302-dacd-49e5-d86a-de8ecef9c6ec"
      },
      "outputs": [],
      "source": [
        "image = Image.open(\"/content/cdl-endorsehilight_0.jpeg\")\n",
        "image"
      ]
    },
    {
      "cell_type": "code",
      "execution_count": null,
      "id": "bbfC9C8A0VNG",
      "metadata": {
        "colab": {
          "base_uri": "https://localhost:8080/"
        },
        "id": "bbfC9C8A0VNG",
        "outputId": "e820da64-0330-4106-f712-1de691f6eefd"
      },
      "outputs": [],
      "source": [
        "task_prompt = '<OCR_WITH_REGION>'\n",
        "results = run_example(task_prompt)\n",
        "print(results)"
      ]
    },
    {
      "cell_type": "code",
      "execution_count": null,
      "id": "f4AW0K180ukK",
      "metadata": {
        "colab": {
          "base_uri": "https://localhost:8080/",
          "height": 810
        },
        "id": "f4AW0K180ukK",
        "outputId": "c7d93142-454c-4112-bfe8-8aa9312d58f7"
      },
      "outputs": [],
      "source": [
        "output_image = copy.deepcopy(image)\n",
        "w, h = output_image.size\n",
        "scale = 3600 / max(w, h)\n",
        "new_output_image = output_image.resize((int(w * scale), int(h * scale)))\n",
        "draw_ocr_bboxes(new_output_image, results['<OCR_WITH_REGION>'], scale=scale)"
      ]
    },
    {
      "cell_type": "code",
      "execution_count": null,
      "id": "SilMD1ga1aDS",
      "metadata": {
        "colab": {
          "base_uri": "https://localhost:8080/"
        },
        "id": "SilMD1ga1aDS",
        "outputId": "1a1d77ef-a69d-471f-a4cf-6ec1142c7f46"
      },
      "outputs": [],
      "source": [
        "print_ocr_bboxes(image, results['<OCR_WITH_REGION>'])\n"
      ]
    }
  ],
  "metadata": {
    "accelerator": "GPU",
    "colab": {
      "gpuType": "T4",
      "provenance": []
    },
    "kernelspec": {
      "display_name": "Python 3",
      "name": "python3"
    },
    "language_info": {
      "codemirror_mode": {
        "name": "ipython",
        "version": 3
      },
      "file_extension": ".py",
      "mimetype": "text/x-python",
      "name": "python",
      "nbconvert_exporter": "python",
      "pygments_lexer": "ipython3",
      "version": "3.10.14"
    }
  },
  "nbformat": 4,
  "nbformat_minor": 5
}
